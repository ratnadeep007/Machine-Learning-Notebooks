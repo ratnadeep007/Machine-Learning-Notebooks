{
 "cells": [
  {
   "cell_type": "code",
   "execution_count": 1,
   "metadata": {},
   "outputs": [
    {
     "name": "stdout",
     "output_type": "stream",
     "text": [
      "              Open    High     Low    Close      Volume  Ex-Dividend  \\\n",
      "Date                                                                   \n",
      "2004-08-19  100.01  104.06   95.96  100.335  44659000.0          0.0   \n",
      "2004-08-20  101.01  109.08  100.50  108.310  22834300.0          0.0   \n",
      "2004-08-23  110.76  113.48  109.05  109.400  18256100.0          0.0   \n",
      "2004-08-24  111.24  111.60  103.57  104.870  15247300.0          0.0   \n",
      "2004-08-25  104.76  108.00  103.88  106.000   9188600.0          0.0   \n",
      "\n",
      "            Split Ratio  Adj. Open  Adj. High   Adj. Low  Adj. Close  \\\n",
      "Date                                                                   \n",
      "2004-08-19          1.0  50.159839  52.191109  48.128568   50.322842   \n",
      "2004-08-20          1.0  50.661387  54.708881  50.405597   54.322689   \n",
      "2004-08-23          1.0  55.551482  56.915693  54.693835   54.869377   \n",
      "2004-08-24          1.0  55.792225  55.972783  51.945350   52.597363   \n",
      "2004-08-25          1.0  52.542193  54.167209  52.100830   53.164113   \n",
      "\n",
      "            Adj. Volume  \n",
      "Date                     \n",
      "2004-08-19   44659000.0  \n",
      "2004-08-20   22834300.0  \n",
      "2004-08-23   18256100.0  \n",
      "2004-08-24   15247300.0  \n",
      "2004-08-25    9188600.0  \n"
     ]
    }
   ],
   "source": [
    "import pandas as pd\n",
    "import quandl\n",
    "\n",
    "df = quandl.get('WIKI/GOOGL')\n",
    "\n",
    "print(df.head())"
   ]
  },
  {
   "cell_type": "code",
   "execution_count": 2,
   "metadata": {},
   "outputs": [],
   "source": [
    "df = df[['Adj. Open','Adj. High','Adj. Low','Adj. Close', 'Adj. Volume']]"
   ]
  },
  {
   "cell_type": "code",
   "execution_count": 3,
   "metadata": {},
   "outputs": [],
   "source": [
    "df['HL_PCT'] = (df['Adj. High'] - df['Adj. Close']) / df['Adj. Close'] * 100.0\n",
    "df['PCT_change'] = (df['Adj. Close'] - df['Adj. Open']) / df['Adj. Open'] * 100.0"
   ]
  },
  {
   "cell_type": "code",
   "execution_count": 4,
   "metadata": {},
   "outputs": [
    {
     "name": "stdout",
     "output_type": "stream",
     "text": [
      "            Adj. Close    HL_PCT  PCT_change  Adj. Volume\n",
      "Date                                                     \n",
      "2004-08-19   50.322842  3.712563    0.324968   44659000.0\n",
      "2004-08-20   54.322689  0.710922    7.227007   22834300.0\n",
      "2004-08-23   54.869377  3.729433   -1.227880   18256100.0\n",
      "2004-08-24   52.597363  6.417469   -5.726357   15247300.0\n",
      "2004-08-25   53.164113  1.886792    1.183658    9188600.0\n"
     ]
    }
   ],
   "source": [
    "df = df[['Adj. Close', 'HL_PCT', 'PCT_change', 'Adj. Volume']]\n",
    "print(df.head())"
   ]
  },
  {
   "cell_type": "code",
   "execution_count": 5,
   "metadata": {},
   "outputs": [],
   "source": [
    "import math\n",
    "forecast_col = 'Adj. Close'\n",
    "df.fillna(-99999, inplace=True)\n",
    "forecast_out = int(math.ceil(0.1*len(df)))"
   ]
  },
  {
   "cell_type": "code",
   "execution_count": 6,
   "metadata": {},
   "outputs": [
    {
     "name": "stdout",
     "output_type": "stream",
     "text": [
      "            Adj. Close    HL_PCT  PCT_change  Adj. Volume       label\n",
      "Date                                                                 \n",
      "2004-08-19   50.322842  3.712563    0.324968   44659000.0  214.005615\n",
      "2004-08-20   54.322689  0.710922    7.227007   22834300.0  210.725489\n",
      "2004-08-23   54.869377  3.729433   -1.227880   18256100.0  208.072299\n",
      "2004-08-24   52.597363  6.417469   -5.726357   15247300.0  218.288837\n",
      "2004-08-25   53.164113  1.886792    1.183658    9188600.0  223.309335\n"
     ]
    }
   ],
   "source": [
    "df['label'] = df[forecast_col].shift(-forecast_out)\n",
    "print(df.head())"
   ]
  },
  {
   "cell_type": "code",
   "execution_count": 2,
   "metadata": {},
   "outputs": [],
   "source": [
    "import numpy as np\n",
    "from sklearn import preprocessing, cross_validation\n",
    "from sklearn.linear_model import LinearRegression\n",
    "import pickle\n",
    "import warnings\n",
    "warnings.filterwarnings('ignore')"
   ]
  },
  {
   "cell_type": "code",
   "execution_count": 8,
   "metadata": {},
   "outputs": [
    {
     "name": "stdout",
     "output_type": "stream",
     "text": [
      "            Adj. Close    HL_PCT  PCT_change  Adj. Volume       label\n",
      "Date                                                                 \n",
      "2004-08-19   50.322842  3.712563    0.324968   44659000.0  214.005615\n",
      "2004-08-20   54.322689  0.710922    7.227007   22834300.0  210.725489\n",
      "2004-08-23   54.869377  3.729433   -1.227880   18256100.0  208.072299\n",
      "2004-08-24   52.597363  6.417469   -5.726357   15247300.0  218.288837\n",
      "2004-08-25   53.164113  1.886792    1.183658    9188600.0  223.309335\n",
      "3081 3081\n"
     ]
    }
   ],
   "source": [
    "X = np.array(df.drop(['label'],1))\n",
    "X = preprocessing.scale(X)\n",
    "X_lately = X[-forecast_out:]\n",
    "X = X[:-forecast_out]\n",
    "\n",
    "df.dropna(inplace=True)\n",
    "y = np.array(df['label'])\n",
    "\n",
    "print(df.head())\n",
    "\n",
    "print(len(X), len(y))"
   ]
  },
  {
   "cell_type": "code",
   "execution_count": 9,
   "metadata": {},
   "outputs": [],
   "source": [
    "X_train, X_test, y_train, y_test = cross_validation.train_test_split(X, y, test_size=0.2)"
   ]
  },
  {
   "cell_type": "code",
   "execution_count": 10,
   "metadata": {},
   "outputs": [],
   "source": [
    "# clf = LinearRegression(n_jobs=-1)\n",
    "# clf.fit(X_train, y_train)\n",
    "\n",
    "# # saving\n",
    "# with open('linearregeression.pickle', 'wb') as f:\n",
    "#     pickle.dump(clf, f)\n",
    "    \n",
    "# using pickle\n",
    "pickle_in = open('linearregeression.pickle', 'rb')\n",
    "clf = pickle.load(pickle_in)\n"
   ]
  },
  {
   "cell_type": "code",
   "execution_count": 11,
   "metadata": {},
   "outputs": [
    {
     "name": "stdout",
     "output_type": "stream",
     "text": [
      "0.7425154861383543 [ 788.25090307  767.81527648  790.82985635  797.37436364  803.42770965\n",
      "  791.61914987  801.97700799  801.68087989  795.80088058  798.27464827\n",
      "  800.07690744  806.06818705  791.44928684  779.91874547  780.84882341\n",
      "  795.18211569  792.57876123  808.42458338  812.38858389  826.74014846\n",
      "  825.24427087  831.49752846  834.77931511  832.61605033  826.56117076\n",
      "  829.95716245  833.2665859   830.14042739  827.82484435  825.76862202\n",
      "  827.1533039   821.88448689  820.69773424  809.18827454  824.9025446\n",
      "  825.11691257  830.86877429  841.97138522  845.00026946  844.00851378\n",
      "  848.17369855  847.83291979  848.81495452  845.62646041  847.59299179\n",
      "  841.64844058  846.59046253  861.53300555  867.56614543  876.7130285\n",
      "  874.3829471   859.67701908  839.919239    837.80420193  832.28172148\n",
      "  835.10799632  837.59146536  839.90319046  846.86298825  847.65718635\n",
      "  848.42919205  852.84050281  856.98848879  858.2722346   855.19394848\n",
      "  860.58459892  864.74519794  867.37525602  869.43875249  869.42287051\n",
      "  866.40465522  867.98079931  863.03921786  874.73604577  867.8277947\n",
      "  867.58543128  865.73771196  869.30260439  871.85773209  875.79382287\n",
      "  879.80116073  882.7521065   884.41153757  886.97177344  888.52408497\n",
      "  890.81460434  886.38234887  865.45467236  867.44673251  857.32313073\n",
      "  852.27011049  855.5915057   858.23483244  867.70578097  868.05573023\n",
      "  866.07088679  874.29882302  870.90264212  865.65669604  862.42239035\n",
      "  860.34092864  859.49430284  857.884825    859.5383848   858.30995356\n",
      "  872.89464027  872.15620399  874.76244884  878.20773968  877.28626476\n",
      "  896.83592869  906.57046484  907.67859598  909.89833128  941.32666086\n",
      "  950.80285187  955.14507032  966.72712291  973.08708751  968.80889694\n",
      "  977.02562504  975.61658592  974.30960429  974.98145976  974.51066138\n",
      "  978.04625655  984.12818658  959.22091152  968.82515301  973.32624601\n",
      "  983.1944723   989.54015966  997.26628901 1010.11548069 1012.52774088\n",
      " 1015.61286293 1005.38503516 1007.58895727 1015.41777289 1022.9722208\n",
      " 1015.07840393 1021.05761114 1023.98874903  985.37532612  979.22365198\n",
      "  988.88661523  986.1364384   978.59347738  977.58573677  993.94162575\n",
      "  987.20132137  997.80445954  995.94748901 1005.17418806  989.30392622\n",
      "  964.89027833  979.12928087  955.14055765  947.07653972  936.9876906\n",
      "  950.18881166  945.21492314  958.89446646  969.60201847  972.67377438\n",
      "  986.52855522  986.86694642  996.5330004   994.45381337 1005.31358306\n",
      " 1012.05986358 1011.35062539 1013.25318353 1016.14114808  985.97851047\n",
      "  983.75848909  969.45922312  976.5522158   962.97795337  964.89429428\n",
      "  966.75171392  958.83082347  964.96769057  964.84023961  962.27738924\n",
      "  958.82965287  941.01525416  948.41281041  958.13595107  957.02019097\n",
      "  962.64550125  945.14929362  944.77556316  939.26156254  958.59005747\n",
      "  961.31677378  955.22593134  948.78769691  946.72563476  953.78767991\n",
      "  962.32660173  973.82340469  970.98378094  959.60836295  961.21741064\n",
      "  969.07860927  960.00000164  961.47773116  966.00899286  969.3788225\n",
      "  958.63458227  953.73429582  948.24088894  955.95612365  965.82471959\n",
      "  966.2692963   961.69993594  952.94340843  955.61144944  977.14566634\n",
      "  983.72440523  992.4496145   985.96803863  991.58938313  985.71561772\n",
      " 1003.95146752 1012.56446584 1011.16483455 1006.66208953 1024.19782825\n",
      " 1024.58046905 1026.92847092 1029.12665451 1030.43610327 1032.20497809\n",
      " 1021.03705144 1024.5825912  1003.23391617 1008.11614383 1010.56993729\n",
      " 1009.16651339 1047.75421046 1051.8003301  1052.02669236 1061.49539537\n",
      " 1062.80366541 1069.8688938  1062.05959419 1072.54875732 1067.49982608\n",
      " 1064.26823322 1060.5185007  1061.78785402 1056.29665982 1067.87260124\n",
      " 1054.69899786 1054.58772203 1070.19541911 1072.00631526 1076.52273547\n",
      " 1091.54153975 1081.79585687 1054.98732848 1055.15937218 1043.51427624\n",
      " 1029.64533129 1036.33007455 1050.92633561 1063.73313952 1068.81605426\n",
      " 1071.83461787 1067.02897306 1071.23296405 1076.3119161  1091.00900798\n",
      " 1105.05311974 1099.89180573 1093.43025369 1090.76234009 1089.25706379\n",
      " 1086.27463175 1079.97760425 1075.57400543 1073.33607143 1092.14231765\n",
      " 1110.52425584 1115.44771301 1130.30798675 1134.35546423 1133.24913001\n",
      " 1130.63027229 1132.51196201 1150.30225297 1149.59014832 1160.09499413\n",
      " 1156.65863146 1164.35062454 1184.03211403 1196.87043386 1191.12846155\n",
      " 1203.20008504 1208.91683708 1206.5113544  1197.28761759 1203.1824837\n",
      " 1201.51429822 1137.30631211 1083.32402409 1100.7929047  1072.40479432\n",
      " 1018.89406718 1060.327852   1072.94105812 1073.19030922 1091.56379383\n",
      " 1111.10759505 1114.08101615 1121.89015338 1130.96523234 1129.08073637\n",
      " 1148.56044182 1164.14259496 1135.81693398 1121.95662954 1087.66356182\n",
      " 1102.47854776 1113.62616744 1121.19723921 1134.50876082 1149.44296248\n",
      " 1180.74816782 1185.3179488  1157.14017553 1168.21241708 1170.06791102\n",
      " 1153.04143581 1118.45627673 1114.83330578 1112.32059171 1069.70251827\n",
      " 1041.56105173 1072.84990017 1020.56609946] 343\n"
     ]
    }
   ],
   "source": [
    "accuracy = clf.score(X_test, y_test)\n",
    "forecast_set = clf.predict(X_lately)\n",
    "print(accuracy, forecast_set, forecast_out)"
   ]
  },
  {
   "cell_type": "code",
   "execution_count": 12,
   "metadata": {},
   "outputs": [],
   "source": [
    "import datetime\n",
    "import matplotlib.pyplot as plt\n",
    "from matplotlib import style"
   ]
  },
  {
   "cell_type": "code",
   "execution_count": 13,
   "metadata": {},
   "outputs": [],
   "source": [
    "style.use('ggplot')"
   ]
  },
  {
   "cell_type": "code",
   "execution_count": 14,
   "metadata": {},
   "outputs": [],
   "source": [
    "df['Forecast'] = np.nan"
   ]
  },
  {
   "cell_type": "code",
   "execution_count": 15,
   "metadata": {},
   "outputs": [],
   "source": [
    "last_date = df.iloc[-1].name\n",
    "last_unix = last_date.timestamp()\n",
    "one_day = 86400\n",
    "next_unix = last_unix + one_day"
   ]
  },
  {
   "cell_type": "code",
   "execution_count": 16,
   "metadata": {},
   "outputs": [
    {
     "data": {
      "image/png": "[encoded data removed]",
      "text/plain": [
       "<Figure size 432x288 with 1 Axes>"
      ]
     },
     "metadata": {},
     "output_type": "display_data"
    }
   ],
   "source": [
    "for i in forecast_set:\n",
    "    next_date = datetime.datetime.fromtimestamp(next_unix)\n",
    "    next_unix += one_day\n",
    "    df.loc[next_date] = [np.nan for _ in range(len(df.columns)-1)] + [i]\n",
    "\n",
    "df['Adj. Close'].plot()\n",
    "df['Forecast'].plot()\n",
    "plt.legend(loc=4)\n",
    "plt.xlabel('Date')\n",
    "plt.ylabel('Price')\n",
    "plt.show()"
   ]
  }
 ],
 "metadata": {
  "kernelspec": {
   "display_name": "Python 3",
   "language": "python",
   "name": "python3"
  },
  "language_info": {
   "codemirror_mode": {
    "name": "ipython",
    "version": 3
   },
   "file_extension": ".py",
   "mimetype": "text/x-python",
   "name": "python",
   "nbconvert_exporter": "python",
   "pygments_lexer": "ipython3",
   "version": "3.6.3"
  }
 },
 "nbformat": 4,
 "nbformat_minor": 2
}
